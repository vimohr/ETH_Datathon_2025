{
 "cells": [
  {
   "cell_type": "code",
   "execution_count": null,
   "id": "b1b75adb",
   "metadata": {},
   "outputs": [],
   "source": [
    "from utils import get_data\n",
    "import pandas as pd\n",
    "import numpy as np\n",
    "from src.models.decisiontrees.lightgbm import LGBM1\n",
    "from tqdm import tqdm\n",
    "import warnings\n",
    "from sklearn.decomposition import PCA\n",
    "\n",
    "warnings.filterwarnings('ignore')"
   ]
  },
  {
   "cell_type": "code",
   "execution_count": 2,
   "id": "fd8110ec",
   "metadata": {},
   "outputs": [],
   "source": [
    "dataframe = pd.read_csv('data/datasets2025/historical_metering_data_ES.csv')\n",
    "all_cols = dataframe.columns\n",
    "all_cols = all_cols.drop('DATETIME')\n",
    "all_indexes = all_cols.str.split('ES_', expand=False)\n",
    "all_indexes = [int(index) for name,index in all_indexes]\n"
   ]
  },
  {
   "cell_type": "code",
   "execution_count": null,
   "id": "8002edab",
   "metadata": {},
   "outputs": [],
   "source": []
  },
  {
   "cell_type": "code",
   "execution_count": null,
   "id": "b98c1c50",
   "metadata": {},
   "outputs": [],
   "source": [
    "preds_august = []\n",
    "preds_july = []\n",
    "true_july = []\n",
    "\n",
    "cutoff = pd.to_datetime('2024-07-01')\n",
    "cutoff2 = pd.to_datetime('2024-08-01')\n"
   ]
  },
  {
   "cell_type": "code",
   "execution_count": null,
   "id": "2afcb860",
   "metadata": {},
   "outputs": [
    {
     "name": "stderr",
     "output_type": "stream",
     "text": [
      "  0%|          | 0/98 [00:00<?, ?it/s]"
     ]
    },
    {
     "name": "stdout",
     "output_type": "stream",
     "text": [
      "(21165, 2413)\n",
      "[LightGBM] [Info] Auto-choosing col-wise multi-threading, the overhead of testing was 0.190027 seconds.\n",
      "You can set `force_col_wise=true` to remove the overhead.\n",
      "[LightGBM] [Info] Total Bins 405113\n",
      "[LightGBM] [Info] Number of data points in the train set: 21165, number of used features: 2010\n",
      "[LightGBM] [Info] Start training from score 0.005054\n"
     ]
    },
    {
     "name": "stderr",
     "output_type": "stream",
     "text": [
      "  1%|          | 1/98 [00:09<14:48,  9.16s/it]"
     ]
    },
    {
     "name": "stdout",
     "output_type": "stream",
     "text": [
      "(21165, 2413)\n",
      "[LightGBM] [Info] Auto-choosing col-wise multi-threading, the overhead of testing was 0.168402 seconds.\n",
      "You can set `force_col_wise=true` to remove the overhead.\n",
      "[LightGBM] [Info] Total Bins 412425\n",
      "[LightGBM] [Info] Number of data points in the train set: 21165, number of used features: 2040\n",
      "[LightGBM] [Info] Start training from score 0.003241\n"
     ]
    },
    {
     "name": "stderr",
     "output_type": "stream",
     "text": [
      "  2%|▏         | 2/98 [00:21<17:12, 10.75s/it]"
     ]
    },
    {
     "name": "stdout",
     "output_type": "stream",
     "text": [
      "(21165, 2413)\n",
      "[LightGBM] [Info] Auto-choosing col-wise multi-threading, the overhead of testing was 0.125885 seconds.\n",
      "You can set `force_col_wise=true` to remove the overhead.\n",
      "[LightGBM] [Info] Total Bins 410739\n",
      "[LightGBM] [Info] Number of data points in the train set: 21165, number of used features: 2040\n",
      "[LightGBM] [Info] Start training from score 0.005297\n"
     ]
    },
    {
     "name": "stderr",
     "output_type": "stream",
     "text": [
      "  3%|▎         | 3/98 [00:34<18:02, 11.39s/it]\n"
     ]
    },
    {
     "ename": "KeyError",
     "evalue": "\"['VALUEMWHMETERINGDATA_customerIT_11'] not found in axis\"",
     "output_type": "error",
     "traceback": [
      "\u001b[0;31m---------------------------------------------------------------------------\u001b[0m",
      "\u001b[0;31mKeyError\u001b[0m                                  Traceback (most recent call last)",
      "Cell \u001b[0;32mIn[4], line 3\u001b[0m\n\u001b[1;32m      1\u001b[0m \u001b[38;5;28;01mfor\u001b[39;00m index \u001b[38;5;129;01min\u001b[39;00m tqdm(all_indexes):\n\u001b[0;32m----> 3\u001b[0m     all_data \u001b[38;5;241m=\u001b[39m \u001b[43mget_data\u001b[49m\u001b[43m(\u001b[49m\n\u001b[1;32m      4\u001b[0m \u001b[43m        \u001b[49m\u001b[43mcountry\u001b[49m\u001b[38;5;241;43m=\u001b[39;49m\u001b[38;5;124;43m'\u001b[39;49m\u001b[38;5;124;43mIT\u001b[39;49m\u001b[38;5;124;43m'\u001b[39;49m\u001b[43m,\u001b[49m\n\u001b[1;32m      5\u001b[0m \u001b[43m        \u001b[49m\u001b[43mcustomer_index\u001b[49m\u001b[43m \u001b[49m\u001b[38;5;241;43m=\u001b[39;49m\u001b[43m \u001b[49m\u001b[43m[\u001b[49m\u001b[43mindex\u001b[49m\u001b[43m]\u001b[49m\u001b[43m,\u001b[49m\n\u001b[1;32m      6\u001b[0m \u001b[43m        \u001b[49m\u001b[43mdemand\u001b[49m\u001b[38;5;241;43m=\u001b[39;49m\u001b[43m[\u001b[49m\u001b[38;5;241;43m0\u001b[39;49m\u001b[43m]\u001b[49m\u001b[38;5;241;43m+\u001b[39;49m\u001b[43m[\u001b[49m\u001b[43mi\u001b[49m\u001b[43m \u001b[49m\u001b[38;5;28;43;01mfor\u001b[39;49;00m\u001b[43m \u001b[49m\u001b[43mi\u001b[49m\u001b[43m \u001b[49m\u001b[38;5;129;43;01min\u001b[39;49;00m\u001b[43m \u001b[49m\u001b[38;5;28;43mrange\u001b[39;49m\u001b[43m(\u001b[49m\u001b[38;5;241;43m8730\u001b[39;49m\u001b[43m,\u001b[49m\u001b[38;5;241;43m8760\u001b[39;49m\u001b[43m)\u001b[49m\u001b[43m]\u001b[49m\u001b[38;5;241;43m+\u001b[39;49m\u001b[43m[\u001b[49m\u001b[43mi\u001b[49m\u001b[43m \u001b[49m\u001b[38;5;28;43;01mfor\u001b[39;49;00m\u001b[43m \u001b[49m\u001b[43mi\u001b[49m\u001b[43m \u001b[49m\u001b[38;5;129;43;01min\u001b[39;49;00m\u001b[43m \u001b[49m\u001b[38;5;28;43mrange\u001b[39;49m\u001b[43m(\u001b[49m\u001b[38;5;241;43m0\u001b[39;49m\u001b[43m,\u001b[49m\u001b[38;5;241;43m800\u001b[39;49m\u001b[43m,\u001b[49m\u001b[38;5;241;43m4\u001b[39;49m\u001b[43m)\u001b[49m\u001b[43m]\u001b[49m\u001b[43m,\u001b[49m\n\u001b[1;32m      7\u001b[0m \u001b[43m        \u001b[49m\u001b[43mtemp\u001b[49m\u001b[38;5;241;43m=\u001b[39;49m\u001b[43m[\u001b[49m\u001b[38;5;241;43m0\u001b[39;49m\u001b[43m,\u001b[49m\u001b[43m \u001b[49m\u001b[38;5;241;43m1\u001b[39;49m\u001b[43m,\u001b[49m\u001b[38;5;241;43m2\u001b[39;49m\u001b[43m,\u001b[49m\u001b[38;5;241;43m3\u001b[39;49m\u001b[43m,\u001b[49m\u001b[38;5;241;43m4\u001b[39;49m\u001b[43m,\u001b[49m\u001b[38;5;241;43m5\u001b[39;49m\u001b[43m,\u001b[49m\u001b[38;5;241;43m6\u001b[39;49m\u001b[43m,\u001b[49m\u001b[43m \u001b[49m\u001b[38;5;241;43m24\u001b[39;49m\u001b[43m,\u001b[49m\u001b[43m \u001b[49m\u001b[38;5;241;43m24\u001b[39;49m\u001b[38;5;241;43m*\u001b[39;49m\u001b[38;5;241;43m7\u001b[39;49m\u001b[43m,\u001b[49m\u001b[43m \u001b[49m\u001b[38;5;241;43m24\u001b[39;49m\u001b[38;5;241;43m*\u001b[39;49m\u001b[38;5;241;43m365\u001b[39;49m\u001b[43m]\u001b[49m\u001b[43m,\u001b[49m\n\u001b[1;32m      8\u001b[0m \u001b[43m        \u001b[49m\u001b[43mspv\u001b[49m\u001b[38;5;241;43m=\u001b[39;49m\u001b[43m[\u001b[49m\u001b[38;5;241;43m0\u001b[39;49m\u001b[43m,\u001b[49m\u001b[38;5;241;43m2\u001b[39;49m\u001b[43m,\u001b[49m\u001b[38;5;241;43m3\u001b[39;49m\u001b[43m,\u001b[49m\u001b[38;5;241;43m4\u001b[39;49m\u001b[43m,\u001b[49m\u001b[38;5;241;43m5\u001b[39;49m\u001b[43m,\u001b[49m\u001b[38;5;241;43m6\u001b[39;49m\u001b[43m,\u001b[49m\u001b[43m \u001b[49m\u001b[38;5;241;43m1\u001b[39;49m\u001b[43m,\u001b[49m\u001b[43m \u001b[49m\u001b[38;5;241;43m24\u001b[39;49m\u001b[43m,\u001b[49m\u001b[43m \u001b[49m\u001b[38;5;241;43m24\u001b[39;49m\u001b[38;5;241;43m*\u001b[39;49m\u001b[38;5;241;43m7\u001b[39;49m\u001b[43m,\u001b[49m\u001b[43m \u001b[49m\u001b[38;5;241;43m24\u001b[39;49m\u001b[38;5;241;43m*\u001b[39;49m\u001b[38;5;241;43m365\u001b[39;49m\u001b[43m]\u001b[49m\u001b[43m,\u001b[49m\n\u001b[1;32m      9\u001b[0m \u001b[43m        \u001b[49m\u001b[43mforecast_shifts\u001b[49m\u001b[38;5;241;43m=\u001b[39;49m\u001b[43m[\u001b[49m\u001b[38;5;241;43m31\u001b[39;49m\u001b[43m]\u001b[49m\u001b[43m,\u001b[49m\n\u001b[1;32m     10\u001b[0m \u001b[43m        \u001b[49m\u001b[43mrollout_values\u001b[49m\u001b[38;5;241;43m=\u001b[39;49m\u001b[43m[\u001b[49m\u001b[43mi\u001b[49m\u001b[43m \u001b[49m\u001b[38;5;28;43;01mfor\u001b[39;49;00m\u001b[43m \u001b[49m\u001b[43mi\u001b[49m\u001b[43m \u001b[49m\u001b[38;5;129;43;01min\u001b[39;49;00m\u001b[43m \u001b[49m\u001b[38;5;28;43mrange\u001b[39;49m\u001b[43m(\u001b[49m\u001b[38;5;241;43m0\u001b[39;49m\u001b[43m,\u001b[49m\u001b[38;5;241;43m24\u001b[39;49m\u001b[38;5;241;43m*\u001b[39;49m\u001b[38;5;241;43m31\u001b[39;49m\u001b[43m,\u001b[49m\u001b[38;5;241;43m4\u001b[39;49m\u001b[43m)\u001b[49m\u001b[43m]\u001b[49m\u001b[43m,\u001b[49m\n\u001b[1;32m     11\u001b[0m \u001b[43m        \u001b[49m\u001b[43mmoving_average\u001b[49m\u001b[38;5;241;43m=\u001b[39;49m\u001b[43m[\u001b[49m\u001b[38;5;241;43m24\u001b[39;49m\u001b[43m,\u001b[49m\u001b[43m \u001b[49m\u001b[38;5;241;43m24\u001b[39;49m\u001b[38;5;241;43m*\u001b[39;49m\u001b[38;5;241;43m7\u001b[39;49m\u001b[43m,\u001b[49m\u001b[43m \u001b[49m\u001b[38;5;241;43m24\u001b[39;49m\u001b[38;5;241;43m*\u001b[39;49m\u001b[38;5;241;43m30\u001b[39;49m\u001b[43m,\u001b[49m\u001b[38;5;241;43m24\u001b[39;49m\u001b[38;5;241;43m*\u001b[39;49m\u001b[38;5;241;43m90\u001b[39;49m\u001b[43m,\u001b[49m\u001b[38;5;241;43m24\u001b[39;49m\u001b[38;5;241;43m*\u001b[39;49m\u001b[38;5;241;43m365\u001b[39;49m\u001b[43m]\u001b[49m\u001b[43m,\u001b[49m\u001b[43m)\u001b[49m\n\u001b[1;32m     15\u001b[0m     train_data \u001b[38;5;241m=\u001b[39m all_data[all_data\u001b[38;5;241m.\u001b[39mindex \u001b[38;5;241m<\u001b[39m cutoff]\n\u001b[1;32m     16\u001b[0m     test_data \u001b[38;5;241m=\u001b[39m all_data[all_data\u001b[38;5;241m.\u001b[39mindex \u001b[38;5;241m>\u001b[39m\u001b[38;5;241m=\u001b[39m cutoff]\n",
      "File \u001b[0;32m~/Documents/Projects/Datathon2025/ETH_Datathon_2025/carlo_utils.py:42\u001b[0m, in \u001b[0;36mget_data\u001b[0;34m(country, customer_index, demand, temp, spv, forecast_shifts, rollout_values, moving_average)\u001b[0m\n\u001b[1;32m     39\u001b[0m index \u001b[38;5;241m=\u001b[39m pd\u001b[38;5;241m.\u001b[39mto_datetime(index)\n\u001b[1;32m     41\u001b[0m columns \u001b[38;5;241m=\u001b[39m dataframes[\u001b[38;5;241m0\u001b[39m]\u001b[38;5;241m.\u001b[39mcolumns\n\u001b[0;32m---> 42\u001b[0m columns \u001b[38;5;241m=\u001b[39m \u001b[43mcolumns\u001b[49m\u001b[38;5;241;43m.\u001b[39;49m\u001b[43mdrop\u001b[49m\u001b[43m(\u001b[49m\n\u001b[1;32m     43\u001b[0m \u001b[43m    \u001b[49m\u001b[38;5;124;43mf\u001b[39;49m\u001b[38;5;124;43m\"\u001b[39;49m\u001b[38;5;124;43mVALUEMWHMETERINGDATA_customer\u001b[39;49m\u001b[38;5;132;43;01m{\u001b[39;49;00m\u001b[43mcountry\u001b[49m\u001b[38;5;132;43;01m}\u001b[39;49;00m\u001b[38;5;124;43m_\u001b[39;49m\u001b[38;5;132;43;01m{\u001b[39;49;00m\u001b[43mcustomer_index\u001b[49m\u001b[43m[\u001b[49m\u001b[38;5;241;43m0\u001b[39;49m\u001b[43m]\u001b[49m\u001b[38;5;132;43;01m}\u001b[39;49;00m\u001b[38;5;124;43m\"\u001b[39;49m\n\u001b[1;32m     44\u001b[0m \u001b[43m\u001b[49m\u001b[43m)\u001b[49m\n\u001b[1;32m     46\u001b[0m \u001b[38;5;66;03m# This is just so I can use the data later\u001b[39;00m\n\u001b[1;32m     48\u001b[0m rollout_data_index \u001b[38;5;241m=\u001b[39m dataframes[\u001b[38;5;241m2\u001b[39m]\u001b[38;5;241m.\u001b[39mset_index(\u001b[38;5;124m\"\u001b[39m\u001b[38;5;124mDATETIME\u001b[39m\u001b[38;5;124m\"\u001b[39m)\u001b[38;5;241m.\u001b[39mindex\n",
      "File \u001b[0;32m~/Documents/Projects/Datathon2025/ETH_Datathon_2025/.venv/lib/python3.10/site-packages/pandas/core/indexes/base.py:7070\u001b[0m, in \u001b[0;36mIndex.drop\u001b[0;34m(self, labels, errors)\u001b[0m\n\u001b[1;32m   7068\u001b[0m \u001b[38;5;28;01mif\u001b[39;00m mask\u001b[38;5;241m.\u001b[39many():\n\u001b[1;32m   7069\u001b[0m     \u001b[38;5;28;01mif\u001b[39;00m errors \u001b[38;5;241m!=\u001b[39m \u001b[38;5;124m\"\u001b[39m\u001b[38;5;124mignore\u001b[39m\u001b[38;5;124m\"\u001b[39m:\n\u001b[0;32m-> 7070\u001b[0m         \u001b[38;5;28;01mraise\u001b[39;00m \u001b[38;5;167;01mKeyError\u001b[39;00m(\u001b[38;5;124mf\u001b[39m\u001b[38;5;124m\"\u001b[39m\u001b[38;5;132;01m{\u001b[39;00mlabels[mask]\u001b[38;5;241m.\u001b[39mtolist()\u001b[38;5;132;01m}\u001b[39;00m\u001b[38;5;124m not found in axis\u001b[39m\u001b[38;5;124m\"\u001b[39m)\n\u001b[1;32m   7071\u001b[0m     indexer \u001b[38;5;241m=\u001b[39m indexer[\u001b[38;5;241m~\u001b[39mmask]\n\u001b[1;32m   7072\u001b[0m \u001b[38;5;28;01mreturn\u001b[39;00m \u001b[38;5;28mself\u001b[39m\u001b[38;5;241m.\u001b[39mdelete(indexer)\n",
      "\u001b[0;31mKeyError\u001b[0m: \"['VALUEMWHMETERINGDATA_customerIT_11'] not found in axis\""
     ]
    }
   ],
   "source": [
    "for index in tqdm(all_indexes):\n",
    "    \n",
    "    all_data = get_data(\n",
    "        country='IT',\n",
    "        customer_index = [index],\n",
    "        demand=[0]+[i for i in range(8730,8760)]+[i for i in range(0,800,4)],\n",
    "        temp=[0, 1,2,3,4,5,6, 24, 24*7, 24*365],\n",
    "        spv=[0,2,3,4,5,6, 1, 24, 24*7, 24*365],\n",
    "        forecast_shifts=[31],\n",
    "        rollout_values=[i for i in range(0,24*31,4)],\n",
    "        moving_average=[24, 24*7, 24*30,24*90,24*365],)\n",
    "    \n",
    "    \n",
    "\n",
    "    train_data = all_data[all_data.index < cutoff2]\n",
    "    forecast_data = all_data[all_data.index >= cutoff]\n",
    "\n",
    "    \n",
    "\n",
    "\n",
    "    forecast_columns = train_data.columns[train_data.columns.str.contains('forecast')]\n",
    "    X_train = train_data.drop(columns=forecast_columns)\n",
    "    print(X_train.shape)\n",
    "    y_train = train_data[forecast_columns]\n",
    "    model = LGBM1(\n",
    "                  )\n",
    "    model.fit(X_train, y_train)\n",
    "\n",
    "    # Predicting for July\n",
    "    y_forecast = model.predict(forecast_data)\n",
    "    # Predicting for August\n",
    "    X_forecast = forecast_data.drop(columns=forecast_columns)\n",
    "    preds_august.append(y_forecast)"
   ]
  },
  {
   "cell_type": "code",
   "execution_count": null,
   "id": "db5b5646",
   "metadata": {},
   "outputs": [],
   "source": [
    "preds_august_np = np.array(preds_august)\n",
    "preds_july_np = np.array(preds_july)\n",
    "true_july_np = np.array(true_july)\n"
   ]
  },
  {
   "cell_type": "code",
   "execution_count": null,
   "id": "c1dd0f13",
   "metadata": {},
   "outputs": [],
   "source": [
    "preds_august_np = preds_august_np.squeeze()\n",
    "preds_july_np = preds_july_np.squeeze()\n",
    "true_july_np = true_july_np.squeeze()"
   ]
  },
  {
   "cell_type": "code",
   "execution_count": null,
   "id": "dd6ac158",
   "metadata": {},
   "outputs": [],
   "source": [
    "import matplotlib.pyplot as plt\n",
    "import seaborn as sns"
   ]
  },
  {
   "cell_type": "code",
   "execution_count": null,
   "id": "e697c330",
   "metadata": {},
   "outputs": [],
   "source": [
    "errors = preds_july_np - true_july_np\n",
    "error_mean = np.mean(errors, axis=0)\n",
    "error_std = np.std(errors, axis=0)\n",
    "abs_errors = np.abs(errors)\n",
    "abs_error_mean = np.mean(abs_errors, axis=0)\n",
    "abs_error_std = np.std(abs_errors, axis=0)\n",
    "\n",
    "sns.set(style=\"whitegrid\")\n",
    "plt.figure(figsize=(12, 6))\n",
    "plt.plot(abs_error_mean, label='Mean Error', color='blue')\n",
    "plt.fill_between(range(len(abs_error_mean)), abs_error_mean - abs_error_std, abs_error_mean + abs_error_std, color='blue', alpha=0.2)\n",
    "plt.title('Errors in July Predictions')\n"
   ]
  },
  {
   "cell_type": "code",
   "execution_count": null,
   "id": "5ae23723",
   "metadata": {},
   "outputs": [],
   "source": [
    "preds_august_np = preds_august_np.T"
   ]
  },
  {
   "cell_type": "code",
   "execution_count": null,
   "id": "387a2bd9",
   "metadata": {},
   "outputs": [],
   "source": [
    "pd.DataFrame(preds_august_np).to_csv('predictions/august_predictions.csv', index=False)"
   ]
  },
  {
   "cell_type": "code",
   "execution_count": null,
   "id": "95e70396",
   "metadata": {},
   "outputs": [],
   "source": []
  }
 ],
 "metadata": {
  "kernelspec": {
   "display_name": ".venv",
   "language": "python",
   "name": "python3"
  },
  "language_info": {
   "codemirror_mode": {
    "name": "ipython",
    "version": 3
   },
   "file_extension": ".py",
   "mimetype": "text/x-python",
   "name": "python",
   "nbconvert_exporter": "python",
   "pygments_lexer": "ipython3",
   "version": "3.10.11"
  }
 },
 "nbformat": 4,
 "nbformat_minor": 5
}
