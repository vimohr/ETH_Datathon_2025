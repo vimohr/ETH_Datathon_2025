{
 "cells": [
  {
   "cell_type": "code",
   "execution_count": null,
   "id": "384dac7a",
   "metadata": {},
   "outputs": [
    {
     "name": "stdout",
     "output_type": "stream",
     "text": [
      "Fetching data from 2022-01-01T00:00:00Z to 2024-07-31T23:00:00Z...\n",
      "          Dia   Hora     PCB     CYM                COF2TD PMHPCB PMHCYM  \\\n",
      "0  06/04/2025  00-01  130,32  130,32  0,000106067281000000  83,65  83,65   \n",
      "1  06/04/2025  01-02  108,79  108,79  0,000090230244000000  56,64  56,64   \n",
      "2  06/04/2025  02-03   98,17   98,17  0,000078866095000000  42,56  42,56   \n",
      "3  06/04/2025  03-04   91,26   91,26  0,000072274482000000  30,53  30,53   \n",
      "4  06/04/2025  04-05   91,35   91,35  0,000069007422000000  29,71  29,71   \n",
      "\n",
      "  SAHPCB SAHCYM FOMPCB  ... PCAPPCB PCAPCYM TEUPCB TEUCYM CCVPCB CCVCYM  \\\n",
      "0  23,38  23,38   0,05  ...    0,00    0,00   2,99   2,99   4,41   4,41   \n",
      "1  29,06  29,06   0,05  ...    0,00    0,00   2,99   2,99   4,10   4,10   \n",
      "2  32,63  32,63   0,05  ...    0,00    0,00   2,99   2,99   3,95   3,95   \n",
      "3  37,84  37,84   0,05  ...    0,00    0,00   2,99   2,99   3,85   3,85   \n",
      "4  38,73  38,73   0,05  ...    0,00    0,00   2,99   2,99   3,85   3,85   \n",
      "\n",
      "  EDSRPCB EDSRCYM TAHPCB TAHCYM  \n",
      "0    0,00    0,00  15,64  15,64  \n",
      "1    0,00    0,00  15,74  15,74  \n",
      "2    0,00    0,00  15,78  15,78  \n",
      "3    0,00    0,00  15,79  15,79  \n",
      "4    0,00    0,00  15,81  15,81  \n",
      "\n",
      "[5 rows x 25 columns]\n"
     ]
    }
   ],
   "source": [
    "import requests\n",
    "import datetime\n",
    "import pandas as pd\n",
    "\n",
    "# Replace with your actual API key from REE\n",
    "API_KEY = \"YOUR_API_KEY\"\n",
    "\n",
    "# API endpoint (verify with the current REE API docs)\n",
    "BASE_URL = \"https://api.esios.ree.es/archives/70/download_json\"\n",
    "\n",
    "# Define headers as required by the API\n",
    "headers = {\n",
    "    \"Accept\": \"application/json; application/vnd.esios-api-v1+json\",\n",
    "    \"Content-Type\": \"application/json\",\n",
    "    \"Authorization\": f\"Token token={API_KEY}\"\n",
    "}\n",
    "\n",
    "# Define the overall start and end dates for the entire period\n",
    "start_date = datetime.datetime(2022, 1, 1, 0)  # January 1, 2022 at 00:00\n",
    "end_date = datetime.datetime(2024, 7, 31, 23)    # July 31, 2024 at 23:00\n",
    "\n",
    "# Set up query parameters for a single request\n",
    "params = {\n",
    "    \"start_Date\": start_date.strftime('%Y-%m-%dT%H:%M:%SZ'),\n",
    "    \"end_Date\": end_date.strftime('%Y-%m-%dT%H:%M:%SZ'),\n",
    "    \"Date_type\": \"historical\"  # Try this if supported by the API docs\n",
    "}\n",
    "\n",
    "\n",
    "print(f\"Fetching data from {params['start_Date']} to {params['end_Date']}...\")\n",
    "response = requests.get(BASE_URL, headers=headers, params=params)\n",
    "\n",
    "if response.status_code == 200:\n",
    "    data = response.json()\n",
    "    # Adjust the key name based on the actual JSON structure; here we assume \"PVPC\"\n",
    "    hourly_data = data.get(\"PVPC\", [])\n",
    "    df = pd.DataFrame(hourly_data)\n",
    "\n",
    "    # If each record contains a 'datetime' field, convert it to datetime objects and sort\n",
    "    if 'datetime' in df.columns:\n",
    "        df['datetime'] = pd.to_datetime(df['datetime'])\n",
    "        df = df.sort_values(by='datetime')\n",
    "    \n",
    "    print(df.head())\n",
    "    # Optionally, save the DataFrame to a CSV file for later analysis\n",
    "    df.to_csv(\"hourly_prices_2022_2024.csv\", index=False)\n",
    "else:\n",
    "    print(f\"Error fetching data: {response.status_code} {response.text}\")\n"
   ]
  },
  {
   "cell_type": "code",
   "execution_count": null,
   "id": "50efab72",
   "metadata": {},
   "outputs": [],
   "source": []
  }
 ],
 "metadata": {
  "kernelspec": {
   "display_name": ".venv",
   "language": "python",
   "name": "python3"
  },
  "language_info": {
   "codemirror_mode": {
    "name": "ipython",
    "version": 3
   },
   "file_extension": ".py",
   "mimetype": "text/x-python",
   "name": "python",
   "nbconvert_exporter": "python",
   "pygments_lexer": "ipython3",
   "version": "3.10.11"
  }
 },
 "nbformat": 4,
 "nbformat_minor": 5
}
