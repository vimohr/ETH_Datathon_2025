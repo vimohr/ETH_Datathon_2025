{
 "cells": [
  {
   "cell_type": "code",
   "execution_count": null,
   "id": "e0ba3b4a",
   "metadata": {},
   "outputs": [
    {
     "ename": "",
     "evalue": "",
     "output_type": "error",
     "traceback": [
      "\u001b[1;31mRunning cells with 'Python 3.10.11' requires the ipykernel package.\n",
      "\u001b[1;31mInstall 'ipykernel' into the Python environment. \n",
      "\u001b[1;31mCommand: '/Users/carloteufel/Documents/Projects/Datathon2025/ETH_Datathon_2025/.venv/bin/python -m pip install ipykernel -U --user --force-reinstall'"
     ]
    }
   ],
   "source": [
    "from src.models.decisiontrees.xgboost import XGB1\n"
   ]
  },
  {
   "cell_type": "code",
   "execution_count": null,
   "id": "32e043d9",
   "metadata": {},
   "outputs": [],
   "source": []
  }
 ],
 "metadata": {
  "kernelspec": {
   "display_name": "Python 3",
   "language": "python",
   "name": "python3"
  },
  "language_info": {
   "name": "python",
   "version": "3.10.11"
  }
 },
 "nbformat": 4,
 "nbformat_minor": 5
}
