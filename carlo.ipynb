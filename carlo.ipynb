{
 "cells": [
  {
   "cell_type": "code",
   "execution_count": null,
   "id": "e0ba3b4a",
   "metadata": {},
   "outputs": [],
   "source": [
    "from src.models.decisiontrees.xgboost import XGB1\n",
    "from src.models.decisiontrees.catboost import CatBoost1\n",
    "from src.models.decisiontrees.lightgbm import LGBM1\n"
   ]
  },
  {
   "cell_type": "code",
   "execution_count": null,
   "id": "32e043d9",
   "metadata": {},
   "outputs": [],
   "source": []
  }
 ],
 "metadata": {
  "kernelspec": {
   "display_name": "Python 3",
   "language": "python",
   "name": "python3"
  },
  "language_info": {
   "codemirror_mode": {
    "name": "ipython",
    "version": 3
   },
   "file_extension": ".py",
   "mimetype": "text/x-python",
   "name": "python",
   "nbconvert_exporter": "python",
   "pygments_lexer": "ipython3",
   "version": "3.10.11"
  }
 },
 "nbformat": 4,
 "nbformat_minor": 5
}
