{
 "cells": [
  {
   "cell_type": "code",
   "execution_count": 2,
   "id": "e0ba3b4a",
   "metadata": {},
   "outputs": [],
   "source": [
    "from src.models.decisiontrees.xgboost import XGB1\n",
    "from src.models.decisiontrees.catboost import CatBoost1\n",
    "from src.models.decisiontrees.lightgbm import LGBM1\n",
    "import pandas as pd\n",
    "import matplotlib.pyplot as plt\n",
    "import numpy as np"
   ]
  },
  {
   "cell_type": "code",
   "execution_count": 3,
   "id": "32e043d9",
   "metadata": {},
   "outputs": [],
   "source": [
    "historical_metering = pd.read_csv(\"data/datasets2025/historical_metering_data_ES.csv\")\n",
    "rollout = pd.read_csv(\"data/datasets2025/rollout_data_ES.csv\")\n",
    "\n",
    "historical_copy = historical_metering.copy()\n",
    "historical_copy['DATETIME'] = pd.to_datetime(historical_copy['DATETIME'])\n",
    "historical_copy.set_index('DATETIME', inplace=True)\n",
    "rollout_copy = rollout.copy()"
   ]
  },
  {
   "cell_type": "code",
   "execution_count": 4,
   "id": "f439cc9f",
   "metadata": {},
   "outputs": [],
   "source": [
    "historical_datetimes = historical_metering[\"DATETIME\"]\n",
    "rollout_datetimes = rollout[\"DATETIME\"]\n",
    "common_dates = set(historical_datetimes).intersection(rollout_datetimes)\n"
   ]
  },
  {
   "cell_type": "code",
   "execution_count": 5,
   "id": "b711d2f8",
   "metadata": {},
   "outputs": [],
   "source": [
    "historical_data = historical_metering[historical_metering[\"DATETIME\"].isin(common_dates)].to_numpy()\n",
    "rollout_data = rollout[rollout[\"DATETIME\"].isin(common_dates)].to_numpy()\n",
    "common_dates = list(common_dates)"
   ]
  },
  {
   "cell_type": "code",
   "execution_count": 6,
   "id": "8a1c5937",
   "metadata": {},
   "outputs": [],
   "source": [
    "# fig = plt.figure(figsize=(100, 20))\n",
    "# plt.plot(common_dates, historical_data[:, 3], label=\"Historical Data\")\n",
    "# plt.plot(common_dates, rollout_data[:, 3], label=\"Rollout Data\")\n",
    "# plt.title(\"Historical and Rollout Data Comparison\")\n",
    "# plt.legend()\n",
    "# plt.show()"
   ]
  },
  {
   "cell_type": "code",
   "execution_count": 7,
   "id": "5acead27",
   "metadata": {},
   "outputs": [],
   "source": [
    "# fig = plt.figure(figsize=(100, 20))\n",
    "# plt.plot(common_dates, historical_data[:, 3]-rollout_data[:, 3], label=\"Error\")\n",
    "# plt.title(\"Historical and Rollout Data Comparison\")\n",
    "# plt.legend()\n",
    "# plt.show()"
   ]
  },
  {
   "cell_type": "code",
   "execution_count": 8,
   "id": "933bc065",
   "metadata": {},
   "outputs": [],
   "source": [
    "\n",
    "# max_lag = len(historical_copy)\n",
    "# lags = range(1,max_lag + 1)\n",
    "# autocorrelations = [historical_copy['VALUEMWHMETERINGDATA_customerES_5'].autocorr(lag=lag) for lag in lags]\n",
    "# top_10_lags = sorted(range(len(autocorrelations)), key=lambda i: abs(autocorrelations[i]), reverse=True)[:10]\n",
    "# print(\"Top 10 Lags:\", top_10_lags)"
   ]
  },
  {
   "cell_type": "code",
   "execution_count": 9,
   "id": "5e07fbe5",
   "metadata": {},
   "outputs": [],
   "source": [
    "cutoff = pd.to_datetime('2024-06-01 00:00:00')"
   ]
  },
  {
   "cell_type": "code",
   "execution_count": null,
   "id": "e5ef3c57",
   "metadata": {},
   "outputs": [],
   "source": [
    "lags = [i for i in range(1, 1200)]\n",
    "year_lags = [i for i in range(8700, 8800)]  \n",
    "\n",
    "lags = lags + year_lags\n",
    "hours_week = 24 * 7\n",
    "\n",
    "\n",
    "for lag in lags:\n",
    "        historical_copy[f\"lag{lag}\"] = historical_copy['VALUEMWHMETERINGDATA_customerES_5'].shift(lag)\n",
    "\n",
    "historical_copy['forward_1'] = historical_copy['VALUEMWHMETERINGDATA_customerES_5'].shift(-hours_week)\n",
    "historical_copy['forward_2'] = historical_copy['VALUEMWHMETERINGDATA_customerES_5'].shift(-2 * hours_week)\n",
    "historical_copy['forward_3'] = historical_copy['VALUEMWHMETERINGDATA_customerES_5'].shift(-3 * hours_week)\n",
    "historical_copy['forward_4'] = historical_copy['VALUEMWHMETERINGDATA_customerES_5'].shift(-4 * hours_week)\n",
    "\n",
    "historical_copy.dropna(inplace=True)"
   ]
  },
  {
   "cell_type": "code",
   "execution_count": 26,
   "id": "d562d277",
   "metadata": {},
   "outputs": [],
   "source": [
    "t_mondays = historical_copy[historical_copy.index.dayofweek == 0]\n",
    "t_tuesdays = historical_copy[historical_copy.index.dayofweek == 1]\n",
    "t_wednesdays = historical_copy[historical_copy.index.dayofweek == 2]\n",
    "t_thursdays = historical_copy[historical_copy.index.dayofweek == 3]\n",
    "t_fridays = historical_copy[historical_copy.index.dayofweek == 4]\n",
    "t_saturdays = historical_copy[historical_copy.index.dayofweek == 5]\n",
    "t_sundays = historical_copy[historical_copy.index.dayofweek == 6]"
   ]
  },
  {
   "cell_type": "code",
   "execution_count": null,
   "id": "cc7f9ec1",
   "metadata": {},
   "outputs": [
    {
     "data": {
      "text/html": [
       "<div>\n",
       "<style scoped>\n",
       "    .dataframe tbody tr th:only-of-type {\n",
       "        vertical-align: middle;\n",
       "    }\n",
       "\n",
       "    .dataframe tbody tr th {\n",
       "        vertical-align: top;\n",
       "    }\n",
       "\n",
       "    .dataframe thead th {\n",
       "        text-align: right;\n",
       "    }\n",
       "</style>\n",
       "<table border=\"1\" class=\"dataframe\">\n",
       "  <thead>\n",
       "    <tr style=\"text-align: right;\">\n",
       "      <th></th>\n",
       "      <th>VALUEMWHMETERINGDATA_customerES_5</th>\n",
       "      <th>forward_1</th>\n",
       "      <th>forward_2</th>\n",
       "      <th>forward_3</th>\n",
       "      <th>forward_4</th>\n",
       "    </tr>\n",
       "    <tr>\n",
       "      <th>DATETIME</th>\n",
       "      <th></th>\n",
       "      <th></th>\n",
       "      <th></th>\n",
       "      <th></th>\n",
       "      <th></th>\n",
       "    </tr>\n",
       "  </thead>\n",
       "  <tbody>\n",
       "    <tr>\n",
       "      <th>2024-07-29 19:00:00</th>\n",
       "      <td>0.016880</td>\n",
       "      <td>NaN</td>\n",
       "      <td>NaN</td>\n",
       "      <td>NaN</td>\n",
       "      <td>NaN</td>\n",
       "    </tr>\n",
       "    <tr>\n",
       "      <th>2024-07-29 20:00:00</th>\n",
       "      <td>0.020584</td>\n",
       "      <td>NaN</td>\n",
       "      <td>NaN</td>\n",
       "      <td>NaN</td>\n",
       "      <td>NaN</td>\n",
       "    </tr>\n",
       "    <tr>\n",
       "      <th>2024-07-29 21:00:00</th>\n",
       "      <td>0.023592</td>\n",
       "      <td>NaN</td>\n",
       "      <td>NaN</td>\n",
       "      <td>NaN</td>\n",
       "      <td>NaN</td>\n",
       "    </tr>\n",
       "    <tr>\n",
       "      <th>2024-07-29 22:00:00</th>\n",
       "      <td>0.023540</td>\n",
       "      <td>NaN</td>\n",
       "      <td>NaN</td>\n",
       "      <td>NaN</td>\n",
       "      <td>NaN</td>\n",
       "    </tr>\n",
       "    <tr>\n",
       "      <th>2024-07-29 23:00:00</th>\n",
       "      <td>0.022128</td>\n",
       "      <td>NaN</td>\n",
       "      <td>NaN</td>\n",
       "      <td>NaN</td>\n",
       "      <td>NaN</td>\n",
       "    </tr>\n",
       "  </tbody>\n",
       "</table>\n",
       "</div>"
      ],
      "text/plain": [
       "                     VALUEMWHMETERINGDATA_customerES_5  forward_1  forward_2  \\\n",
       "DATETIME                                                                       \n",
       "2024-07-29 19:00:00                           0.016880        NaN        NaN   \n",
       "2024-07-29 20:00:00                           0.020584        NaN        NaN   \n",
       "2024-07-29 21:00:00                           0.023592        NaN        NaN   \n",
       "2024-07-29 22:00:00                           0.023540        NaN        NaN   \n",
       "2024-07-29 23:00:00                           0.022128        NaN        NaN   \n",
       "\n",
       "                     forward_3  forward_4  \n",
       "DATETIME                                   \n",
       "2024-07-29 19:00:00        NaN        NaN  \n",
       "2024-07-29 20:00:00        NaN        NaN  \n",
       "2024-07-29 21:00:00        NaN        NaN  \n",
       "2024-07-29 22:00:00        NaN        NaN  \n",
       "2024-07-29 23:00:00        NaN        NaN  "
      ]
     },
     "execution_count": 27,
     "metadata": {},
     "output_type": "execute_result"
    }
   ],
   "source": []
  }
 ],
 "metadata": {
  "kernelspec": {
   "display_name": "Python 3",
   "language": "python",
   "name": "python3"
  },
  "language_info": {
   "codemirror_mode": {
    "name": "ipython",
    "version": 3
   },
   "file_extension": ".py",
   "mimetype": "text/x-python",
   "name": "python",
   "nbconvert_exporter": "python",
   "pygments_lexer": "ipython3",
   "version": "3.10.11"
  }
 },
 "nbformat": 4,
 "nbformat_minor": 5
}
