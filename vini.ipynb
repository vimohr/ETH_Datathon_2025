{
 "cells": [
  {
   "cell_type": "code",
   "execution_count": null,
   "id": "1f03dc38",
   "metadata": {},
   "outputs": [],
   "source": [
    "import pandas as pd\n",
    "from statsmodels.tsa.statespace.sarimax import SARIMAX\n",
    "from sklearn.metrics import mean_squared_error\n",
    "import numpy as np\n",
    "import matplotlib.pyplot as plt\n",
    "from pmdarima import auto_arima\n"
   ]
  },
  {
   "cell_type": "code",
   "execution_count": null,
   "id": "0c0a2bdb",
   "metadata": {},
   "outputs": [],
   "source": [
    "# Load and prepare data\n",
    "df['date'] = pd.to_datetime(df['date'])\n",
    "df = df.set_index('date')\n",
    "\n",
    "# Create lagged demand features (example: lag 1 and lag 7)\n",
    "df['demand_lag1'] = df['demand'].shift(1)\n",
    "df['demand_lag7'] = df['demand'].shift(7)\n",
    "\n",
    "# Drop rows with NA values due to lagging\n",
    "df = df.dropna()\n",
    "\n",
    "# Define target and exogenous variables\n",
    "y = df['demand']\n",
    "exog = df[['temperature', 'holiday', 'production', 'demand_lag1', 'demand_lag7']]\n",
    "\n",
    "# Train-test split (e.g., last 20% as test)\n",
    "split_idx = int(len(df) * 0.8)\n",
    "y_train, y_test = y[:split_idx], y[split_idx:]\n",
    "exog_train, exog_test = exog[:split_idx], exog[split_idx:]\n",
    "\n",
    "# Automatically find best SARIMA order using auto_arima\n",
    "stepwise_model = auto_arima(y_train,\n",
    "                             exogenous=exog_train,\n",
    "                             seasonal=True,\n",
    "                             m=7,  # weekly seasonality\n",
    "                             stepwise=True,\n",
    "                             suppress_warnings=True,\n",
    "                             error_action=\"ignore\",\n",
    "                             trace=True)\n",
    "\n",
    "# Extract best order and seasonal order\n",
    "order = stepwise_model.order\n",
    "seasonal_order = stepwise_model.seasonal_order\n",
    "\n",
    "# Fit SARIMAX model\n",
    "model = SARIMAX(y_train,\n",
    "                exog=exog_train,\n",
    "                order=order,\n",
    "                seasonal_order=seasonal_order,\n",
    "                enforce_stationarity=False,\n",
    "                enforce_invertibility=False)\n",
    "\n",
    "results = model.fit(disp=False)\n",
    "\n",
    "# Forecast\n",
    "forecast = results.predict(start=y_test.index[0], end=y_test.index[-1], exog=exog_test)\n",
    "\n",
    "# Evaluation\n",
    "mse = mean_squared_error(y_test, forecast)\n",
    "print(f\"Test MSE: {mse:.2f}\")\n",
    "\n"
   ]
  },
  {
   "cell_type": "code",
   "execution_count": null,
   "id": "e4a6661f",
   "metadata": {},
   "outputs": [],
   "source": [
    "# Plot results\n",
    "plt.figure(figsize=(14,6))\n",
    "plt.plot(y_train[-60:], label='Train')\n",
    "plt.plot(y_test, label='Test')\n",
    "plt.plot(forecast, label='Forecast', linestyle='--')\n",
    "plt.legend()\n",
    "plt.title(\"Energy Demand Forecast\")\n",
    "plt.show()"
   ]
  }
 ],
 "metadata": {
  "kernelspec": {
   "display_name": "venv",
   "language": "python",
   "name": "python3"
  },
  "language_info": {
   "codemirror_mode": {
    "name": "ipython",
    "version": 3
   },
   "file_extension": ".py",
   "mimetype": "text/x-python",
   "name": "python",
   "nbconvert_exporter": "python",
   "pygments_lexer": "ipython3",
   "version": "3.10.15"
  }
 },
 "nbformat": 4,
 "nbformat_minor": 5
}
